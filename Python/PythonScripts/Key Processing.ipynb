{
 "cells": [
  {
   "cell_type": "markdown",
   "metadata": {},
   "source": [
    "# Key Processing"
   ]
  },
  {
   "cell_type": "code",
   "execution_count": 1,
   "metadata": {},
   "outputs": [],
   "source": [
    "import pandas as pd\n",
    "import glob\n",
    "import re\n",
    "import os.path\n",
    "import numpy as np\n",
    "from openpyxl import load_workbook\n",
    "\n"
   ]
  },
  {
   "cell_type": "code",
   "execution_count": 2,
   "metadata": {},
   "outputs": [],
   "source": [
    "databases = ['Asset Suite', 'Archibus', 'COBRA','EDMS','FIS','IPS','P6','PID','Site People','Time Billing']\n",
    "path = 'C:\\\\Users\\\\\\mounsl\\\\OneDrive - Idaho National Laboratory\\\\Documents - GRP-Agree Data Assessment Team\\\\Data Assessment Taxonomy\\\\PK-FK files\\\\' #path to where files for the database are kept"
   ]
  },
  {
   "cell_type": "markdown",
   "metadata": {},
   "source": [
    "## Key Processing"
   ]
  },
  {
   "cell_type": "code",
   "execution_count": 16,
   "metadata": {},
   "outputs": [],
   "source": [
    "dd_gloss = pd.read_excel('Data Elements Taxonomy_copy.xlsx', sheet_name='Data Dictionary')\n",
    "writer = pd.ExcelWriter('Data Elements Taxonomy_PK_FK.xlsx', engine='openpyxl', mode = 'a', if_sheet_exists='overlay')\n",
    "clean_PKs = pd.DataFrame()\n",
    "clean_FKs = pd.DataFrame()\n",
    "for database in databases:    \n",
    "    #PKs\n",
    "    if os.path.isfile(path+database+'-PKs.xlsx'):\n",
    "        # print(database)\n",
    "        raw_PKs = pd.read_excel(path+database+'-PKs.xlsx')\n",
    "        raw_PKs = raw_PKs.rename(columns={'TableName':'TABLENAME','ColumnName':'COLNAME','ORDINAL_POSITION':'Primary Key'}).drop(columns=['SchemaName','PK_name'])\n",
    "        raw_PKs['System'] = database\n",
    "        raw_PKs['TABLENAME'] = raw_PKs['TABLENAME'].str.strip()\n",
    "        raw_PKs['COLNAME'] = raw_PKs['COLNAME'].str.strip()\n",
    "        raw_PKs = raw_PKs[['System','TABLENAME','COLNAME','Primary Key']]\n",
    "        clean_PKs = pd.concat([clean_PKs,raw_PKs])\n",
    "\n",
    "    #FKS\n",
    "    if os.path.isfile(path+database+'-FKs.xlsx'):\n",
    "        raw_FKs = pd.read_excel(path+database+'-FKs.xlsx')\n",
    "        raw_FKs = raw_FKs.rename(columns={'TableName':'TABLENAME','ColumnName':'COLNAME'}).drop(columns=['SchemaName','FK_name'])\n",
    "        raw_FKs['System'] = database\n",
    "        raw_FKs['TABLENAME'] = raw_FKs['TABLENAME'].str.strip()\n",
    "        raw_FKs['COLNAME'] = raw_FKs['COLNAME'].str.strip()\n",
    "        clean_FKs = pd.concat([clean_FKs,raw_FKs])\n",
    "\n",
    "dd_gloss['System'] = dd_gloss['System'].str.strip()\n",
    "dd_gloss['TABLENAME'] = dd_gloss['TABLENAME'].str.strip()\n",
    "dd_gloss['COLNAME'] = dd_gloss['COLNAME'].str.strip()\n",
    "dd_gloss_pk = dd_gloss.merge(clean_PKs, on=['System','TABLENAME','COLNAME'], how='left')\n",
    "dd_gloss_pk_fk = dd_gloss_pk.merge(clean_FKs, on=['System','TABLENAME','COLNAME'], how='left')\n",
    "## DROP DUPLICATES?\n",
    "# fk_dd = dd_gloss.merge(clean_FKs, on=['System','TABLENAME','COLNAME'], how='right')"
   ]
  },
  {
   "cell_type": "code",
   "execution_count": 17,
   "metadata": {},
   "outputs": [],
   "source": [
    "# #dd_gloss_pk.to_excel('Data Elements Taxonomy_PK.xlsx', index=False)\n",
    "# #fk_dd[['System','TABLENAME','COLNAME','ReferencedTable','ReferencedColumn']].to_excel('Data Elements Foreign Keys.xlsx',index=False)\n",
    "dd_gloss_pk_fk.to_excel(writer, sheet_name = 'Data Dictionary', index=False)\n",
    "writer.close()\n"
   ]
  },
  {
   "cell_type": "markdown",
   "metadata": {},
   "source": [
    "# Asset Suite Key \"Query\""
   ]
  },
  {
   "cell_type": "code",
   "execution_count": 6,
   "metadata": {},
   "outputs": [],
   "source": [
    "# as_path = 'c:\\\\Users\\\\mounsl\\\\OneDrive - Idaho National Laboratory\\\\Documents - GRP-Agree Data Assessment Team\\\\Asset Suite\\\\Working documents - Start here\\\\'\n",
    "# files = glob.glob(as_path + 'DataDictionary*.xlsx')\n",
    "# as_pks = pd.DataFrame(columns=['Dictionary','TableName','ColumnName','ORDINAL_POSITION'])\n",
    "# table_count = 0\n",
    "# for file in files:\n",
    "#     workbook = pd.read_excel(file, sheet_name=None, keep_default_na = False)\n",
    "#     for key, df in workbook.items():\n",
    "#         if '-' in key:\n",
    "#             table_count += 1\n",
    "#             tableName = re.sub(' ', '',key).split('-')[-1]\n",
    "#             # print(tableName)\n",
    "#             index_rows = df[(df.iloc[:,0].str.contains('INDEX', na=False))&(df.iloc[:,0].str.contains('CREATE', na=False))].index\n",
    "            \n",
    "#             for rownum in index_rows:\n",
    "#                 pks = ''\n",
    "#                 i=rownum+1\n",
    "#                 while df.iloc[i,0]!='':\n",
    "#                     pks = pks+re.sub('[() ]', '', df.iloc[i,0])\n",
    "#                     i += 1\n",
    "#                 # print(pks[0:len(pks)]) \n",
    "#                 pk_list = pks.split(',')\n",
    "#                 j = 1\n",
    "#                 for pk in pk_list:\n",
    "#                     as_pks.loc[len(as_pks)] = {'Dictionary':file.split('_',1)[1], 'TableName':tableName,'ColumnName':pk,'ORDINAL_POSITION':j}\n",
    "#                     j+=1\n",
    "# as_pks['SchemaName'] = ''\n",
    "# as_pks['PK_name'] = 'PK'\n",
    "# as_pks = as_pks.drop_duplicates()\n"
   ]
  },
  {
   "cell_type": "code",
   "execution_count": 7,
   "metadata": {},
   "outputs": [],
   "source": [
    "# as_pks.to_excel(path+'Asset Suite-PKs.xlsx', index=False)"
   ]
  },
  {
   "cell_type": "code",
   "execution_count": 8,
   "metadata": {},
   "outputs": [],
   "source": [
    "## XXX Manually decide which create index statement to use on the following tables:\n",
    "## TIDOBLOB, TIDTPCOL, TIDECPHY, TIDLBSTP, TIDPMFUT"
   ]
  },
  {
   "cell_type": "markdown",
   "metadata": {},
   "source": [
    "# P6 Key \"Query\""
   ]
  },
  {
   "cell_type": "code",
   "execution_count": 9,
   "metadata": {},
   "outputs": [],
   "source": [
    "# p6_path = 'C:\\\\Users\\\\mounsl\\\\OneDrive - Idaho National Laboratory\\Documents - GRP-Agree Data Assessment Team\\\\Project Management\\\\3. Data and modeling\\\\Data Dictionary\\\\P6\\\\PXRPTUSER Scripted Views\\\\'\n",
    "# p6files = glob.glob(p6_path + '*vw.txt')\n",
    "\n",
    "\n",
    "# table_pattern = re.compile(r'(?<=C:\\\\Users\\\\mounsl\\\\OneDrive - Idaho National Laboratory\\\\Documents - GRP-Agree Data Assessment Team\\\\Project Management\\\\3\\. Data and modeling\\\\Data Dictionary\\\\P6\\\\PXRPTUSER Scripted Views\\\\).*(?=vw\\.txt)')\n",
    "# pk_pattern = re.compile(r'(?<=[ \\.])objectid')  ## TODO: this is selecting the a.name_id portion, need to select the alias and UPPERCASE it\n",
    "# fk_pattern = re.compile(r'(?<=[/. ])\\w+(?=objectid)')\n",
    "# p6_pks = pd.DataFrame(columns=['SchemaName','TableName','ColumnName','PK_name','ORDINAL_POSITION'])\n",
    "# p6_fks = pd.DataFrame(columns=['SchemaName','TableName','ColumnName','FK_name','ReferencedTable','ReferencedColumn'])\n",
    "# for file in p6files:\n",
    "#     with open(file, 'r') as fp:\n",
    "#         tableName = table_pattern.search(file)[0]\n",
    "#         # print(tableName)\n",
    "#     # read all lines using readline()\n",
    "#         lines = fp.readlines()\n",
    "#         j=1\n",
    "#         for row in lines:\n",
    "#             # check if string present on a current line\n",
    "#             if pk_pattern.search(row):\n",
    "#                 # pk_name = pk_pattern.search(row)[0].upper()\n",
    "#                 # print('PK for '+tableName+': '+ pk_name)\n",
    "#                 p6_pks.loc[len(p6_pks)] = {'TableName':tableName,'ColumnName':'OBJECTID','ORDINAL_POSITION':j}\n",
    "#                 j +=1\n",
    "#             if fk_pattern.search(row):\n",
    "#                 fk_table = fk_pattern.search(row)[0].upper()\n",
    "#                 # print('FK for '+tableName+': '+ fk_table)\n",
    "#                 p6_fks.loc[len(p6_fks)] = {'TableName':tableName,'ColumnName':fk_table+'OBJECTID','ReferencedTable':fk_table,'ReferencedColumn':'OBJECTID'}\n"
   ]
  },
  {
   "cell_type": "code",
   "execution_count": 10,
   "metadata": {},
   "outputs": [],
   "source": [
    "# p6_pks.to_excel(path+'P6-PKs.xlsx', index=False)\n",
    "# p6_fks.to_excel(path+'P6-FKs.xlsx', index=False)"
   ]
  },
  {
   "cell_type": "code",
   "execution_count": 11,
   "metadata": {},
   "outputs": [],
   "source": [
    "# p6 = dd_gloss[dd_gloss['System']=='P6']#['TABLENAME'].nunique()"
   ]
  },
  {
   "cell_type": "code",
   "execution_count": 12,
   "metadata": {},
   "outputs": [],
   "source": [
    "# no_objectid = p6.groupby('TABLENAME').filter(lambda x: ~(x['COLNAME']=='OBJECTID').any())\n",
    "# no_objectid['TABLENAME'].unique()"
   ]
  },
  {
   "cell_type": "code",
   "execution_count": 13,
   "metadata": {},
   "outputs": [],
   "source": [
    "# p6_fk_val = p6[(p6['COLNAME'].str.contains('OBJECTID'))&(p6['COLNAME']!='OBJECTID')].merge(p6_fks, left_on=['TABLENAME','COLNAME'],right_on=['TableName','ColumnName'], how = 'outer')[['TABLENAME','COLNAME','ReferencedTable','ReferencedColumn']]"
   ]
  },
  {
   "cell_type": "code",
   "execution_count": 14,
   "metadata": {},
   "outputs": [],
   "source": [
    "## Likely missed FKs\n",
    "# p6_fk_val[p6_fk_val['ReferencedTable'].isna()]"
   ]
  },
  {
   "cell_type": "code",
   "execution_count": 15,
   "metadata": {},
   "outputs": [],
   "source": [
    "## FK references a table not in taxonomy\n",
    "# p6_fks[~p6_fks['ReferencedTable'].isin(p6['TABLENAME'])].head(50)"
   ]
  },
  {
   "cell_type": "code",
   "execution_count": 16,
   "metadata": {},
   "outputs": [],
   "source": [
    "# p6_val = p6[p6['COLNAME']=='OBJECTID'].merge(p6_pks, left_on=['TABLENAME','COLNAME'],right_on=['TableName','ColumnName'], how = 'outer')[['TABLENAME','COLNAME','TableName','ColumnName']]"
   ]
  },
  {
   "cell_type": "code",
   "execution_count": 17,
   "metadata": {},
   "outputs": [],
   "source": [
    "## Likely missed PKs\n",
    "# p6_val[p6_val['TableName'].isna()]"
   ]
  },
  {
   "cell_type": "markdown",
   "metadata": {},
   "source": [
    "# Validation"
   ]
  },
  {
   "cell_type": "code",
   "execution_count": 32,
   "metadata": {},
   "outputs": [],
   "source": [
    "# as_pks[as_pks['ORDINAL_POSITION']==1]['TableName'].nunique()"
   ]
  },
  {
   "cell_type": "code",
   "execution_count": 37,
   "metadata": {},
   "outputs": [
    {
     "data": {
      "text/plain": [
       "306"
      ]
     },
     "execution_count": 37,
     "metadata": {},
     "output_type": "execute_result"
    }
   ],
   "source": [
    "## Tables in the DD\n",
    "dd_gloss['TABLENAME'].nunique()"
   ]
  },
  {
   "cell_type": "code",
   "execution_count": 39,
   "metadata": {},
   "outputs": [
    {
     "data": {
      "text/plain": [
       "306"
      ]
     },
     "execution_count": 39,
     "metadata": {},
     "output_type": "execute_result"
    }
   ],
   "source": [
    "dd_gloss_pk['TABLENAME'].nunique()"
   ]
  },
  {
   "cell_type": "code",
   "execution_count": 40,
   "metadata": {},
   "outputs": [
    {
     "data": {
      "text/plain": [
       "255"
      ]
     },
     "execution_count": 40,
     "metadata": {},
     "output_type": "execute_result"
    }
   ],
   "source": [
    "## Tables with PK identified\n",
    "dd_gloss_pk[dd_gloss_pk['Primary Key']==1]['TABLENAME'].nunique()\n"
   ]
  },
  {
   "cell_type": "code",
   "execution_count": 41,
   "metadata": {},
   "outputs": [],
   "source": [
    "no_pks = dd_gloss_pk.groupby('TABLENAME').filter(lambda x: x['Primary Key'].isnull().all())"
   ]
  },
  {
   "cell_type": "code",
   "execution_count": 42,
   "metadata": {},
   "outputs": [
    {
     "data": {
      "text/html": [
       "<div>\n",
       "<style scoped>\n",
       "    .dataframe tbody tr th:only-of-type {\n",
       "        vertical-align: middle;\n",
       "    }\n",
       "\n",
       "    .dataframe tbody tr th {\n",
       "        vertical-align: top;\n",
       "    }\n",
       "\n",
       "    .dataframe thead th {\n",
       "        text-align: right;\n",
       "    }\n",
       "</style>\n",
       "<table border=\"1\" class=\"dataframe\">\n",
       "  <thead>\n",
       "    <tr style=\"text-align: right;\">\n",
       "      <th></th>\n",
       "      <th></th>\n",
       "      <th>Cardinality</th>\n",
       "      <th>Max Length</th>\n",
       "      <th>Primary Key</th>\n",
       "    </tr>\n",
       "    <tr>\n",
       "      <th>System</th>\n",
       "      <th>TABLENAME</th>\n",
       "      <th></th>\n",
       "      <th></th>\n",
       "      <th></th>\n",
       "    </tr>\n",
       "  </thead>\n",
       "  <tbody>\n",
       "    <tr>\n",
       "      <th rowspan=\"2\" valign=\"top\">COBRA</th>\n",
       "      <th>BDNDETL</th>\n",
       "      <td>21.0</td>\n",
       "      <td>NaN</td>\n",
       "      <td>NaN</td>\n",
       "    </tr>\n",
       "    <tr>\n",
       "      <th>COB_NTX</th>\n",
       "      <td>10.0</td>\n",
       "      <td>NaN</td>\n",
       "      <td>NaN</td>\n",
       "    </tr>\n",
       "    <tr>\n",
       "      <th rowspan=\"15\" valign=\"top\">EDMS</th>\n",
       "      <th>A_DRAFTERS</th>\n",
       "      <td>8.0</td>\n",
       "      <td>20.0</td>\n",
       "      <td>NaN</td>\n",
       "    </tr>\n",
       "    <tr>\n",
       "      <th>A_DRAWINGS</th>\n",
       "      <td>63863.0</td>\n",
       "      <td>800.0</td>\n",
       "      <td>NaN</td>\n",
       "    </tr>\n",
       "    <tr>\n",
       "      <th>CLOSED_DARS</th>\n",
       "      <td>247706.0</td>\n",
       "      <td>50.0</td>\n",
       "      <td>NaN</td>\n",
       "    </tr>\n",
       "    <tr>\n",
       "      <th>DRAW_NUMBERING</th>\n",
       "      <td>245491.0</td>\n",
       "      <td>100.0</td>\n",
       "      <td>NaN</td>\n",
       "    </tr>\n",
       "    <tr>\n",
       "      <th>DRF</th>\n",
       "      <td>115002.0</td>\n",
       "      <td>1955.0</td>\n",
       "      <td>NaN</td>\n",
       "    </tr>\n",
       "    <tr>\n",
       "      <th>ENGINEERS</th>\n",
       "      <td>30.0</td>\n",
       "      <td>23.0</td>\n",
       "      <td>NaN</td>\n",
       "    </tr>\n",
       "    <tr>\n",
       "      <th>ERROR_LOG</th>\n",
       "      <td>24.0</td>\n",
       "      <td>147.0</td>\n",
       "      <td>NaN</td>\n",
       "    </tr>\n",
       "    <tr>\n",
       "      <th>ESSENTIAL_AREA</th>\n",
       "      <td>1510.0</td>\n",
       "      <td>15.0</td>\n",
       "      <td>NaN</td>\n",
       "    </tr>\n",
       "    <tr>\n",
       "      <th>ESSENTIAL_LOG</th>\n",
       "      <td>17053.0</td>\n",
       "      <td>23.0</td>\n",
       "      <td>NaN</td>\n",
       "    </tr>\n",
       "    <tr>\n",
       "      <th>MARKUPTAB</th>\n",
       "      <td>1.0</td>\n",
       "      <td>567.0</td>\n",
       "      <td>NaN</td>\n",
       "    </tr>\n",
       "    <tr>\n",
       "      <th>OLD_CAD</th>\n",
       "      <td>76069.0</td>\n",
       "      <td>33.0</td>\n",
       "      <td>NaN</td>\n",
       "    </tr>\n",
       "    <tr>\n",
       "      <th>SPECIAL_CODES</th>\n",
       "      <td>150472.0</td>\n",
       "      <td>17.0</td>\n",
       "      <td>NaN</td>\n",
       "    </tr>\n",
       "    <tr>\n",
       "      <th>SPECIAL_CODES_LOG</th>\n",
       "      <td>8297.0</td>\n",
       "      <td>23.0</td>\n",
       "      <td>NaN</td>\n",
       "    </tr>\n",
       "    <tr>\n",
       "      <th>STW_DRAWINGS</th>\n",
       "      <td>63131.0</td>\n",
       "      <td>30.0</td>\n",
       "      <td>NaN</td>\n",
       "    </tr>\n",
       "    <tr>\n",
       "      <th>SUPERSEDED_DRAWINGS</th>\n",
       "      <td>15815.0</td>\n",
       "      <td>10.0</td>\n",
       "      <td>NaN</td>\n",
       "    </tr>\n",
       "    <tr>\n",
       "      <th rowspan=\"3\" valign=\"top\">IPS</th>\n",
       "      <th>CNCodeImports</th>\n",
       "      <td>76.0</td>\n",
       "      <td>27.0</td>\n",
       "      <td>NaN</td>\n",
       "    </tr>\n",
       "    <tr>\n",
       "      <th>datWBS_INL</th>\n",
       "      <td>6679.0</td>\n",
       "      <td>65.0</td>\n",
       "      <td>NaN</td>\n",
       "    </tr>\n",
       "    <tr>\n",
       "      <th>dat_MRSendClick</th>\n",
       "      <td>1.0</td>\n",
       "      <td>NaN</td>\n",
       "      <td>NaN</td>\n",
       "    </tr>\n",
       "    <tr>\n",
       "      <th rowspan=\"27\" valign=\"top\">P6</th>\n",
       "      <th>ACTIVITYCODEASSIGNMENT</th>\n",
       "      <td>145386.0</td>\n",
       "      <td>120.0</td>\n",
       "      <td>NaN</td>\n",
       "    </tr>\n",
       "    <tr>\n",
       "      <th>ACTIVITYCODEHEIRARCHY</th>\n",
       "      <td>184726.0</td>\n",
       "      <td>116.0</td>\n",
       "      <td>NaN</td>\n",
       "    </tr>\n",
       "    <tr>\n",
       "      <th>ACTIVITYSPREAD</th>\n",
       "      <td>145386.0</td>\n",
       "      <td>120.0</td>\n",
       "      <td>NaN</td>\n",
       "    </tr>\n",
       "    <tr>\n",
       "      <th>COSTACCOUNTHIERARCHY</th>\n",
       "      <td>183484.0</td>\n",
       "      <td>43.0</td>\n",
       "      <td>NaN</td>\n",
       "    </tr>\n",
       "    <tr>\n",
       "      <th>CURRENCY</th>\n",
       "      <td>56115.0</td>\n",
       "      <td>120.0</td>\n",
       "      <td>NaN</td>\n",
       "    </tr>\n",
       "    <tr>\n",
       "      <th>EPSHIERARCHY</th>\n",
       "      <td>183484.0</td>\n",
       "      <td>43.0</td>\n",
       "      <td>NaN</td>\n",
       "    </tr>\n",
       "    <tr>\n",
       "      <th>FINANCIALPERIOD</th>\n",
       "      <td>56115.0</td>\n",
       "      <td>120.0</td>\n",
       "      <td>NaN</td>\n",
       "    </tr>\n",
       "    <tr>\n",
       "      <th>GLOBALPROFILE</th>\n",
       "      <td>56115.0</td>\n",
       "      <td>120.0</td>\n",
       "      <td>NaN</td>\n",
       "    </tr>\n",
       "    <tr>\n",
       "      <th>GLOBALSECURITY</th>\n",
       "      <td>235.0</td>\n",
       "      <td>1.0</td>\n",
       "      <td>NaN</td>\n",
       "    </tr>\n",
       "    <tr>\n",
       "      <th>PROJECTCODEASSIGNMENT</th>\n",
       "      <td>56115.0</td>\n",
       "      <td>100.0</td>\n",
       "      <td>NaN</td>\n",
       "    </tr>\n",
       "    <tr>\n",
       "      <th>PROJECTCODEHIERARCHY</th>\n",
       "      <td>184726.0</td>\n",
       "      <td>116.0</td>\n",
       "      <td>NaN</td>\n",
       "    </tr>\n",
       "    <tr>\n",
       "      <th>PROJECTETLLIST</th>\n",
       "      <td>1252.0</td>\n",
       "      <td>NaN</td>\n",
       "      <td>NaN</td>\n",
       "    </tr>\n",
       "    <tr>\n",
       "      <th>PROJECTPROJECTPORTFOLIO</th>\n",
       "      <td>56115.0</td>\n",
       "      <td>10.0</td>\n",
       "      <td>NaN</td>\n",
       "    </tr>\n",
       "    <tr>\n",
       "      <th>PXSERVICES</th>\n",
       "      <td>56115.0</td>\n",
       "      <td>98.0</td>\n",
       "      <td>NaN</td>\n",
       "    </tr>\n",
       "    <tr>\n",
       "      <th>PXSETTINGS</th>\n",
       "      <td>56115.0</td>\n",
       "      <td>3997.0</td>\n",
       "      <td>NaN</td>\n",
       "    </tr>\n",
       "    <tr>\n",
       "      <th>RELATIONSHIP</th>\n",
       "      <td>1754511.0</td>\n",
       "      <td>120.0</td>\n",
       "      <td>NaN</td>\n",
       "    </tr>\n",
       "    <tr>\n",
       "      <th>RESOURCEACCESS</th>\n",
       "      <td>3088.0</td>\n",
       "      <td>63.0</td>\n",
       "      <td>NaN</td>\n",
       "    </tr>\n",
       "    <tr>\n",
       "      <th>RESOURCEASSIGNMENTSPREAD</th>\n",
       "      <td>145386.0</td>\n",
       "      <td>NaN</td>\n",
       "      <td>NaN</td>\n",
       "    </tr>\n",
       "    <tr>\n",
       "      <th>RESOURCECODEASSIGNMENT</th>\n",
       "      <td>56115.0</td>\n",
       "      <td>63.0</td>\n",
       "      <td>NaN</td>\n",
       "    </tr>\n",
       "    <tr>\n",
       "      <th>RESOURCECODEHIERARCHY</th>\n",
       "      <td>184726.0</td>\n",
       "      <td>116.0</td>\n",
       "      <td>NaN</td>\n",
       "    </tr>\n",
       "    <tr>\n",
       "      <th>RESOURCEHIERARCHY</th>\n",
       "      <td>183484.0</td>\n",
       "      <td>43.0</td>\n",
       "      <td>NaN</td>\n",
       "    </tr>\n",
       "    <tr>\n",
       "      <th>RESOURCERESOURCETEAM</th>\n",
       "      <td>56115.0</td>\n",
       "      <td>10.0</td>\n",
       "      <td>NaN</td>\n",
       "    </tr>\n",
       "    <tr>\n",
       "      <th>UDFTYPE</th>\n",
       "      <td>56115.0</td>\n",
       "      <td>70.0</td>\n",
       "      <td>NaN</td>\n",
       "    </tr>\n",
       "    <tr>\n",
       "      <th>UDFVALUE</th>\n",
       "      <td>217874.0</td>\n",
       "      <td>255.0</td>\n",
       "      <td>NaN</td>\n",
       "    </tr>\n",
       "    <tr>\n",
       "      <th>USERMODULEACCESS</th>\n",
       "      <td>56115.0</td>\n",
       "      <td>15.0</td>\n",
       "      <td>NaN</td>\n",
       "    </tr>\n",
       "    <tr>\n",
       "      <th>USERPROFILEPRIVILEGE</th>\n",
       "      <td>56115.0</td>\n",
       "      <td>76.0</td>\n",
       "      <td>NaN</td>\n",
       "    </tr>\n",
       "    <tr>\n",
       "      <th>WBSHEIRARCHY</th>\n",
       "      <td>183484.0</td>\n",
       "      <td>43.0</td>\n",
       "      <td>NaN</td>\n",
       "    </tr>\n",
       "    <tr>\n",
       "      <th rowspan=\"2\" valign=\"top\">Site People</th>\n",
       "      <th>SitePeople</th>\n",
       "      <td>11452.0</td>\n",
       "      <td>50.0</td>\n",
       "      <td>NaN</td>\n",
       "    </tr>\n",
       "    <tr>\n",
       "      <th>ntusers</th>\n",
       "      <td>12216.0</td>\n",
       "      <td>42.0</td>\n",
       "      <td>NaN</td>\n",
       "    </tr>\n",
       "    <tr>\n",
       "      <th>Time Billing</th>\n",
       "      <th>PS_IF_BALANCES</th>\n",
       "      <td>163185.0</td>\n",
       "      <td>6.0</td>\n",
       "      <td>NaN</td>\n",
       "    </tr>\n",
       "  </tbody>\n",
       "</table>\n",
       "</div>"
      ],
      "text/plain": [
       "                                       Cardinality  Max Length  Primary Key\n",
       "System       TABLENAME                                                     \n",
       "COBRA        BDNDETL                          21.0         NaN          NaN\n",
       "             COB_NTX                          10.0         NaN          NaN\n",
       "EDMS         A_DRAFTERS                        8.0        20.0          NaN\n",
       "             A_DRAWINGS                    63863.0       800.0          NaN\n",
       "             CLOSED_DARS                  247706.0        50.0          NaN\n",
       "             DRAW_NUMBERING               245491.0       100.0          NaN\n",
       "             DRF                          115002.0      1955.0          NaN\n",
       "             ENGINEERS                        30.0        23.0          NaN\n",
       "             ERROR_LOG                        24.0       147.0          NaN\n",
       "             ESSENTIAL_AREA                 1510.0        15.0          NaN\n",
       "             ESSENTIAL_LOG                 17053.0        23.0          NaN\n",
       "             MARKUPTAB                         1.0       567.0          NaN\n",
       "             OLD_CAD                       76069.0        33.0          NaN\n",
       "             SPECIAL_CODES                150472.0        17.0          NaN\n",
       "             SPECIAL_CODES_LOG              8297.0        23.0          NaN\n",
       "             STW_DRAWINGS                  63131.0        30.0          NaN\n",
       "             SUPERSEDED_DRAWINGS           15815.0        10.0          NaN\n",
       "IPS          CNCodeImports                    76.0        27.0          NaN\n",
       "             datWBS_INL                     6679.0        65.0          NaN\n",
       "             dat_MRSendClick                   1.0         NaN          NaN\n",
       "P6           ACTIVITYCODEASSIGNMENT       145386.0       120.0          NaN\n",
       "             ACTIVITYCODEHEIRARCHY        184726.0       116.0          NaN\n",
       "             ACTIVITYSPREAD               145386.0       120.0          NaN\n",
       "             COSTACCOUNTHIERARCHY         183484.0        43.0          NaN\n",
       "             CURRENCY                      56115.0       120.0          NaN\n",
       "             EPSHIERARCHY                 183484.0        43.0          NaN\n",
       "             FINANCIALPERIOD               56115.0       120.0          NaN\n",
       "             GLOBALPROFILE                 56115.0       120.0          NaN\n",
       "             GLOBALSECURITY                  235.0         1.0          NaN\n",
       "             PROJECTCODEASSIGNMENT         56115.0       100.0          NaN\n",
       "             PROJECTCODEHIERARCHY         184726.0       116.0          NaN\n",
       "             PROJECTETLLIST                 1252.0         NaN          NaN\n",
       "             PROJECTPROJECTPORTFOLIO       56115.0        10.0          NaN\n",
       "             PXSERVICES                    56115.0        98.0          NaN\n",
       "             PXSETTINGS                    56115.0      3997.0          NaN\n",
       "             RELATIONSHIP                1754511.0       120.0          NaN\n",
       "             RESOURCEACCESS                 3088.0        63.0          NaN\n",
       "             RESOURCEASSIGNMENTSPREAD     145386.0         NaN          NaN\n",
       "             RESOURCECODEASSIGNMENT        56115.0        63.0          NaN\n",
       "             RESOURCECODEHIERARCHY        184726.0       116.0          NaN\n",
       "             RESOURCEHIERARCHY            183484.0        43.0          NaN\n",
       "             RESOURCERESOURCETEAM          56115.0        10.0          NaN\n",
       "             UDFTYPE                       56115.0        70.0          NaN\n",
       "             UDFVALUE                     217874.0       255.0          NaN\n",
       "             USERMODULEACCESS              56115.0        15.0          NaN\n",
       "             USERPROFILEPRIVILEGE          56115.0        76.0          NaN\n",
       "             WBSHEIRARCHY                 183484.0        43.0          NaN\n",
       "Site People  SitePeople                    11452.0        50.0          NaN\n",
       "             ntusers                       12216.0        42.0          NaN\n",
       "Time Billing PS_IF_BALANCES               163185.0         6.0          NaN"
      ]
     },
     "execution_count": 42,
     "metadata": {},
     "output_type": "execute_result"
    }
   ],
   "source": [
    "no_pks.groupby(['System','TABLENAME']).max('Primary Key')#.to_clipboard()"
   ]
  },
  {
   "cell_type": "code",
   "execution_count": 45,
   "metadata": {},
   "outputs": [
    {
     "data": {
      "text/plain": [
       "1094    TIDLBSTP\n",
       "1096    TIDLBSTP\n",
       "1098    TIDLBSTP\n",
       "1101    TIDLBSTP\n",
       "1514    TIDECPHY\n",
       "Name: TABLENAME, dtype: object"
      ]
     },
     "execution_count": 45,
     "metadata": {},
     "output_type": "execute_result"
    }
   ],
   "source": [
    "## Duplicate rows\n",
    "dd_gloss_pk[dd_gloss_pk.duplicated(subset=['Org Order'])].sort_values('Org Order')['TABLENAME']\n"
   ]
  },
  {
   "cell_type": "code",
   "execution_count": 44,
   "metadata": {},
   "outputs": [],
   "source": []
  }
 ],
 "metadata": {
  "kernelspec": {
   "display_name": "Python 3",
   "language": "python",
   "name": "python3"
  },
  "language_info": {
   "codemirror_mode": {
    "name": "ipython",
    "version": 3
   },
   "file_extension": ".py",
   "mimetype": "text/x-python",
   "name": "python",
   "nbconvert_exporter": "python",
   "pygments_lexer": "ipython3",
   "version": "3.9.13"
  }
 },
 "nbformat": 4,
 "nbformat_minor": 2
}
