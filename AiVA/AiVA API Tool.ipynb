{
 "cells": [
  {
   "cell_type": "markdown",
   "id": "3303b87e",
   "metadata": {},
   "source": [
    "# AiVA Analysis"
   ]
  },
  {
   "cell_type": "code",
   "execution_count": 1,
   "id": "853651d5",
   "metadata": {},
   "outputs": [
    {
     "name": "stdout",
     "output_type": "stream",
     "text": [
      "^C\n"
     ]
    },
    {
     "name": "stdout",
     "output_type": "stream",
     "text": [
      "Requirement already satisfied: selenium in c:\\users\\mounsl\\appdata\\local\\anaconda3\\lib\\site-packages (4.31.0)\n",
      "Requirement already satisfied: urllib3<3,>=1.26 in c:\\users\\mounsl\\appdata\\local\\anaconda3\\lib\\site-packages (from urllib3[socks]<3,>=1.26->selenium) (2.2.3)\n",
      "Requirement already satisfied: trio~=0.17 in c:\\users\\mounsl\\appdata\\local\\anaconda3\\lib\\site-packages (from selenium) (0.30.0)\n",
      "Requirement already satisfied: trio-websocket~=0.9 in c:\\users\\mounsl\\appdata\\local\\anaconda3\\lib\\site-packages (from selenium) (0.12.2)\n",
      "Requirement already satisfied: certifi>=2021.10.8 in c:\\users\\mounsl\\appdata\\local\\anaconda3\\lib\\site-packages (from selenium) (2024.8.30)\n",
      "Requirement already satisfied: typing_extensions~=4.9 in c:\\users\\mounsl\\appdata\\local\\anaconda3\\lib\\site-packages (from selenium) (4.11.0)\n",
      "Requirement already satisfied: websocket-client~=1.8 in c:\\users\\mounsl\\appdata\\local\\anaconda3\\lib\\site-packages (from selenium) (1.8.0)\n",
      "Requirement already satisfied: attrs>=23.2.0 in c:\\users\\mounsl\\appdata\\local\\anaconda3\\lib\\site-packages (from trio~=0.17->selenium) (25.3.0)\n",
      "Requirement already satisfied: sortedcontainers in c:\\users\\mounsl\\appdata\\local\\anaconda3\\lib\\site-packages (from trio~=0.17->selenium) (2.4.0)\n",
      "Requirement already satisfied: idna in c:\\users\\mounsl\\appdata\\local\\anaconda3\\lib\\site-packages (from trio~=0.17->selenium) (3.7)\n",
      "Requirement already satisfied: outcome in c:\\users\\mounsl\\appdata\\local\\anaconda3\\lib\\site-packages (from trio~=0.17->selenium) (1.3.0.post0)\n",
      "Requirement already satisfied: sniffio>=1.3.0 in c:\\users\\mounsl\\appdata\\local\\anaconda3\\lib\\site-packages (from trio~=0.17->selenium) (1.3.0)\n",
      "Requirement already satisfied: cffi>=1.14 in c:\\users\\mounsl\\appdata\\local\\anaconda3\\lib\\site-packages (from trio~=0.17->selenium) (1.17.1)\n",
      "Requirement already satisfied: wsproto>=0.14 in c:\\users\\mounsl\\appdata\\local\\anaconda3\\lib\\site-packages (from trio-websocket~=0.9->selenium) (1.2.0)\n",
      "Requirement already satisfied: pysocks!=1.5.7,<2.0,>=1.5.6 in c:\\users\\mounsl\\appdata\\local\\anaconda3\\lib\\site-packages (from urllib3[socks]<3,>=1.26->selenium) (1.7.1)\n",
      "Requirement already satisfied: pycparser in c:\\users\\mounsl\\appdata\\local\\anaconda3\\lib\\site-packages (from cffi>=1.14->trio~=0.17->selenium) (2.21)\n",
      "Requirement already satisfied: h11<1,>=0.9.0 in c:\\users\\mounsl\\appdata\\local\\anaconda3\\lib\\site-packages (from wsproto>=0.14->trio-websocket~=0.9->selenium) (0.14.0)\n"
     ]
    }
   ],
   "source": [
    "! py -m pip install selenium\n",
    "# ! py -m pip install requests selenium\n",
    "# ! py -m pip install msedge-selenium-tools selenium==3.141\n",
    "# ! py -m pip install webdriver_manager"
   ]
  },
  {
   "cell_type": "code",
   "execution_count": null,
   "id": "98bc8968",
   "metadata": {},
   "outputs": [],
   "source": [
    "## Download Edge WebDriver\n",
    "'''https://developer.microsoft.com/en-us/microsoft-edge/tools/webdriver/'''\n",
    "## Add path of the folder where you located msedgedriver to the PATH variable in your user environment variables "
   ]
  },
  {
   "cell_type": "code",
   "execution_count": 2,
   "id": "1fe17619",
   "metadata": {},
   "outputs": [],
   "source": [
    "from selenium import webdriver\n",
    "from selenium.webdriver.edge.service import Service\n",
    "from selenium.webdriver.common.by import By\n",
    "from webdriver_manager.microsoft import EdgeChromiumDriverManager\n",
    "from selenium.webdriver.support.ui import WebDriverWait\n",
    "from selenium.webdriver.support import expected_conditions as EC\n",
    "\n",
    "import pandas as pd\n",
    "import re"
   ]
  },
  {
   "cell_type": "markdown",
   "id": "6bafd9af",
   "metadata": {},
   "source": [
    "## Define Parameters"
   ]
  },
  {
   "cell_type": "code",
   "execution_count": 37,
   "id": "00e07793",
   "metadata": {},
   "outputs": [],
   "source": [
    "\n",
    "username = 'mounsl'\n",
    "file_path = r''\n",
    "initial_prompt_file = file_path + 'Initial Prompt.txt'\n",
    "subsequent_prompt_preamble = file_path + 'Subsequent Prompt.txt'\n",
    "input_data_files = {'Input Data.xlsx'}\n",
    "rows_per_data_chunk = 2\n",
    "output_data_file = file_path + 'Output Data.xlsx'\n"
   ]
  },
  {
   "cell_type": "markdown",
   "id": "8c5a4ba3",
   "metadata": {},
   "source": [
    "## Functions"
   ]
  },
  {
   "cell_type": "code",
   "execution_count": 4,
   "id": "e3662f8c",
   "metadata": {},
   "outputs": [],
   "source": [
    "def sign_in(driver):\n",
    "    # Wait for the Sign In button to be clickable and then click it\n",
    "    signin_button = WebDriverWait(driver, 10).until(\n",
    "        EC.element_to_be_clickable((By.CSS_SELECTOR, '.btn.btn-primary'))\n",
    "    )\n",
    "    signin_button.click()"
   ]
  },
  {
   "cell_type": "code",
   "execution_count": 5,
   "id": "83aa5645",
   "metadata": {},
   "outputs": [],
   "source": [
    "def query_and_response(query, driver):\n",
    "    # Wait for the textarea to be present and then enter text\n",
    "    textarea = WebDriverWait(driver, 10).until(\n",
    "        EC.presence_of_element_located((By.ID, \"entry\"))\n",
    "    )\n",
    "    textarea.send_keys(query)\n",
    "\n",
    "    # Count the number of chat bubbles before submitting the query\n",
    "    initial_chat_bubble_count = len(driver.find_elements(By.CSS_SELECTOR, '.bot-response.chat-bubble'))\n",
    "\n",
    "    # Wait for the submit button to be clickable and then click it\n",
    "    submit_button = WebDriverWait(driver, 10).until(\n",
    "        EC.element_to_be_clickable((By.CSS_SELECTOR, '.btn.btn-primary.btn-sm'))\n",
    "    )\n",
    "    submit_button.click()\n",
    "    \n",
    "    # Wait for the number of chat bubbles to increase\n",
    "    WebDriverWait(driver, 20).until(\n",
    "        lambda driver: len(driver.find_elements(By.CSS_SELECTOR, '.bot-response.chat-bubble')) > initial_chat_bubble_count\n",
    "    )\n",
    "\n",
    "    # Find all response elements and select the last one\n",
    "    response_elements = driver.find_elements(By.CSS_SELECTOR, '.bot-response.chat-bubble')\n",
    "    most_recent_response = response_elements[-1]\n",
    "    \n",
    "    # Extract the response text\n",
    "    response_text = most_recent_response.text\n",
    "    return response_text"
   ]
  },
  {
   "cell_type": "code",
   "execution_count": 43,
   "id": "2287fdd0",
   "metadata": {},
   "outputs": [],
   "source": [
    "def format_chunk_to_string(chunk):\n",
    "    # Format columns\n",
    "    header = ' | '.join(chunk.columns)\n",
    "    header = f'| {header} |'\n",
    "    \n",
    "    # Format rows\n",
    "    rows = chunk.apply(lambda row: ' | '.join(row.values), axis=1)\n",
    "    rows = rows.apply(lambda row: f'| {row} |')\n",
    "    \n",
    "    # Combine header and rows without newlines\n",
    "    return f'{header} |--------| ' + ' '.join(rows)"
   ]
  },
  {
   "cell_type": "code",
   "execution_count": 60,
   "id": "bbc7e585",
   "metadata": {},
   "outputs": [],
   "source": [
    "def parse_string_to_df(data):\n",
    "    # Find the start of the table\n",
    "    table_start = re.search(r'\\|\\s*[^|]+\\s*\\|', data)\n",
    "    if not table_start:\n",
    "        raise ValueError(\"No table found in the input data.\")\n",
    "    \n",
    "    # Extract the tabular part\n",
    "    tabular_part = data[table_start.start():]\n",
    "    \n",
    "    # Split the string based on the pipe delimiter\n",
    "    parts = [part.strip() for part in tabular_part.split('|') if part.strip()]\n",
    "    \n",
    "    # Extract column names\n",
    "    columns = parts[:2]  # Assuming there are two columns\n",
    "    \n",
    "    # Skip the header separator\n",
    "    data_tuples = []\n",
    "    for i in range(2, len(parts), len(columns)):\n",
    "        if re.match(r'^-+$', parts[i]):\n",
    "            continue\n",
    "        data_tuples.append(tuple(parts[i:i+len(columns)]))\n",
    "    \n",
    "    # Create a DataFrame\n",
    "    df = pd.DataFrame(data_tuples, columns=columns)\n",
    "    \n",
    "    # Ensure the DataFrame has unique indices\n",
    "    df.reset_index(drop=True, inplace=True)\n",
    "    \n",
    "    return df"
   ]
  },
  {
   "cell_type": "markdown",
   "id": "552a7175",
   "metadata": {},
   "source": [
    "## Load Data"
   ]
  },
  {
   "cell_type": "code",
   "execution_count": 38,
   "id": "ce108902",
   "metadata": {},
   "outputs": [],
   "source": [
    "## Load Inputs\n",
    "with open(initial_prompt_file, 'r') as file:\n",
    "    init_prompt = file.read()\n",
    "\n",
    "with open(subsequent_prompt_preamble, 'r') as file:\n",
    "    subs_prompt = file.read()\n",
    "\n",
    "input_data = pd.DataFrame() \n",
    "for input_file in input_data_files:\n",
    "    input_data = pd.concat([input_data, pd.read_excel(input_file)])"
   ]
  },
  {
   "cell_type": "code",
   "execution_count": 39,
   "id": "c88deb58",
   "metadata": {},
   "outputs": [
    {
     "data": {
      "text/html": [
       "<div>\n",
       "<style scoped>\n",
       "    .dataframe tbody tr th:only-of-type {\n",
       "        vertical-align: middle;\n",
       "    }\n",
       "\n",
       "    .dataframe tbody tr th {\n",
       "        vertical-align: top;\n",
       "    }\n",
       "\n",
       "    .dataframe thead th {\n",
       "        text-align: right;\n",
       "    }\n",
       "</style>\n",
       "<table border=\"1\" class=\"dataframe\">\n",
       "  <thead>\n",
       "    <tr style=\"text-align: right;\">\n",
       "      <th></th>\n",
       "      <th>Location</th>\n",
       "      <th>Lore</th>\n",
       "    </tr>\n",
       "  </thead>\n",
       "  <tbody>\n",
       "    <tr>\n",
       "      <th>0</th>\n",
       "      <td>Hyrule</td>\n",
       "      <td>Triforce, Goddesses</td>\n",
       "    </tr>\n",
       "    <tr>\n",
       "      <th>1</th>\n",
       "      <td>Wonderland</td>\n",
       "      <td>Curiosity, Queen of Hearts</td>\n",
       "    </tr>\n",
       "    <tr>\n",
       "      <th>2</th>\n",
       "      <td>Oz</td>\n",
       "      <td>Courage, Brains, Heart, Home</td>\n",
       "    </tr>\n",
       "    <tr>\n",
       "      <th>3</th>\n",
       "      <td>Narnia</td>\n",
       "      <td>Ancient Magic, Lamp Post</td>\n",
       "    </tr>\n",
       "  </tbody>\n",
       "</table>\n",
       "</div>"
      ],
      "text/plain": [
       "     Location                          Lore\n",
       "0      Hyrule           Triforce, Goddesses\n",
       "1  Wonderland    Curiosity, Queen of Hearts\n",
       "2          Oz  Courage, Brains, Heart, Home\n",
       "3      Narnia      Ancient Magic, Lamp Post"
      ]
     },
     "execution_count": 39,
     "metadata": {},
     "output_type": "execute_result"
    }
   ],
   "source": [
    "input_data"
   ]
  },
  {
   "cell_type": "markdown",
   "id": "6a452481",
   "metadata": {},
   "source": [
    "## Perform Queries and Record Responses"
   ]
  },
  {
   "cell_type": "code",
   "execution_count": 61,
   "id": "0dd1d103",
   "metadata": {},
   "outputs": [
    {
     "name": "stdout",
     "output_type": "stream",
     "text": [
      "Sure, I'd be happy to help with that. Please provide the name of the fictional location and some key components of its lore.\n",
      "The next locations to write a pledge for are:| Location | Lore | |--------| | Hyrule | Triforce, Goddesses | | Wonderland | Curiosity, Queen of Hearts |\n",
      "| Location | Pledge | |---------|--------| | Hyrule | I pledge allegiance to the realm of Hyrule, and to the Triforce for which it stands, one kingdom under the Goddesses, indivisible, with courage, wisdom, and power for all. | | Wonderland | I pledge allegiance to the land of Wonderland, and to the curiosity for which it stands, one realm under the Queen of Hearts, whimsical, unpredictable, with wonder and madness for all. |\n",
      "The next locations to write a pledge for are:| Location | Lore | |--------| | Oz | Courage, Brains, Heart, Home | | Narnia | Ancient Magic, Lamp Post |\n",
      "| Location | Pledge | |---------|--------| | Oz | I pledge allegiance to the land of Oz, and to the virtues for which it stands, one realm embracing courage, brains, heart, and the quest for home, with wonder and adventure for all. | | Narnia | I pledge allegiance to the land of Narnia, and to the ancient magic for which it stands, one kingdom under the Lamp Post, timeless and enchanted, with bravery and truth for all. |\n"
     ]
    }
   ],
   "source": [
    "## Setup Browser Connection\n",
    "# Define the path to your Edge profile\n",
    "edge_profile_path = f\"C:\\\\Users\\\\{username}\\\\AppData\\\\Local\\\\Microsoft\\\\Edge\\\\User Data\\\\Default\"\n",
    "\n",
    "# Set up Edge options to use the profile\n",
    "edge_options = webdriver.EdgeOptions()\n",
    "edge_options.add_argument(f\"user-data-dir={edge_profile_path}\")\n",
    "\n",
    "# Set up the Edge driver\n",
    "service = Service(EdgeChromiumDriverManager().install())\n",
    "driver = webdriver.Edge(service=service, options=edge_options)\n",
    "\n",
    "## Query and Record Responses\n",
    "outputs = pd.DataFrame()\n",
    "driver.get(\"https://aiva.inl.gov\")\n",
    "try:\n",
    "    sign_in(driver)\n",
    "    \n",
    "    print(query_and_response(init_prompt, driver))\n",
    "    for start in range(0, len(input_data), rows_per_data_chunk):\n",
    "        end = start + rows_per_data_chunk\n",
    "        chunk = input_data.iloc[start:end]\n",
    "        chunk_string = format_chunk_to_string(chunk)\n",
    "        print(subs_prompt+chunk_string)\n",
    "        response = query_and_response(subs_prompt+chunk_string, driver)\n",
    "        print(response)\n",
    "        output = parse_string_to_df(response)\n",
    "        outputs = pd.concat([outputs, output], ignore_index=True)\n",
    "\n",
    "finally:\n",
    "    driver.quit()"
   ]
  },
  {
   "cell_type": "code",
   "execution_count": 62,
   "id": "5ab79448",
   "metadata": {},
   "outputs": [
    {
     "data": {
      "text/html": [
       "<div>\n",
       "<style scoped>\n",
       "    .dataframe tbody tr th:only-of-type {\n",
       "        vertical-align: middle;\n",
       "    }\n",
       "\n",
       "    .dataframe tbody tr th {\n",
       "        vertical-align: top;\n",
       "    }\n",
       "\n",
       "    .dataframe thead th {\n",
       "        text-align: right;\n",
       "    }\n",
       "</style>\n",
       "<table border=\"1\" class=\"dataframe\">\n",
       "  <thead>\n",
       "    <tr style=\"text-align: right;\">\n",
       "      <th></th>\n",
       "      <th>Location</th>\n",
       "      <th>Pledge</th>\n",
       "    </tr>\n",
       "  </thead>\n",
       "  <tbody>\n",
       "    <tr>\n",
       "      <th>0</th>\n",
       "      <td>Hyrule</td>\n",
       "      <td>I pledge allegiance to the realm of Hyrule, an...</td>\n",
       "    </tr>\n",
       "    <tr>\n",
       "      <th>1</th>\n",
       "      <td>Wonderland</td>\n",
       "      <td>I pledge allegiance to the land of Wonderland,...</td>\n",
       "    </tr>\n",
       "    <tr>\n",
       "      <th>2</th>\n",
       "      <td>Oz</td>\n",
       "      <td>I pledge allegiance to the land of Oz, and to ...</td>\n",
       "    </tr>\n",
       "    <tr>\n",
       "      <th>3</th>\n",
       "      <td>Narnia</td>\n",
       "      <td>I pledge allegiance to the land of Narnia, and...</td>\n",
       "    </tr>\n",
       "  </tbody>\n",
       "</table>\n",
       "</div>"
      ],
      "text/plain": [
       "     Location                                             Pledge\n",
       "0      Hyrule  I pledge allegiance to the realm of Hyrule, an...\n",
       "1  Wonderland  I pledge allegiance to the land of Wonderland,...\n",
       "2          Oz  I pledge allegiance to the land of Oz, and to ...\n",
       "3      Narnia  I pledge allegiance to the land of Narnia, and..."
      ]
     },
     "execution_count": 62,
     "metadata": {},
     "output_type": "execute_result"
    }
   ],
   "source": [
    "outputs"
   ]
  }
 ],
 "metadata": {
  "kernelspec": {
   "display_name": "base",
   "language": "python",
   "name": "python3"
  },
  "language_info": {
   "codemirror_mode": {
    "name": "ipython",
    "version": 3
   },
   "file_extension": ".py",
   "mimetype": "text/x-python",
   "name": "python",
   "nbconvert_exporter": "python",
   "pygments_lexer": "ipython3",
   "version": "3.12.7"
  }
 },
 "nbformat": 4,
 "nbformat_minor": 5
}
