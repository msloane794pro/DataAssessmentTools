{
 "cells": [
  {
   "cell_type": "markdown",
   "id": "3303b87e",
   "metadata": {},
   "source": [
    "# AiVA API Tool"
   ]
  },
  {
   "cell_type": "code",
   "execution_count": null,
   "id": "853651d5",
   "metadata": {},
   "outputs": [],
   "source": [
    "# ! py -m pip install selenium\n",
    "# ! py -m pip install webdriver-manager"
   ]
  },
  {
   "cell_type": "code",
   "execution_count": null,
   "id": "98bc8968",
   "metadata": {},
   "outputs": [],
   "source": [
    "## Download Edge WebDriver\n",
    "'''https://developer.microsoft.com/en-us/microsoft-edge/tools/webdriver/'''\n",
    "## Add path of the folder where you located msedgedriver to the PATH variable in your user environment variables \n",
    "\n",
    "## Note: You must run this code from a local folder"
   ]
  },
  {
   "cell_type": "code",
   "execution_count": null,
   "id": "1fe17619",
   "metadata": {},
   "outputs": [],
   "source": [
    "from selenium import webdriver\n",
    "from selenium.webdriver.edge.service import Service\n",
    "from selenium.webdriver.common.by import By\n",
    "from webdriver_manager.microsoft import EdgeChromiumDriverManager\n",
    "from selenium.webdriver.support.ui import WebDriverWait\n",
    "from selenium.webdriver.support import expected_conditions as EC\n",
    "\n",
    "import pandas as pd\n",
    "import re\n",
    "import winsound"
   ]
  },
  {
   "cell_type": "markdown",
   "id": "6bafd9af",
   "metadata": {},
   "source": [
    "## Define Parameters"
   ]
  },
  {
   "cell_type": "code",
   "execution_count": null,
   "id": "00e07793",
   "metadata": {},
   "outputs": [],
   "source": [
    "file_path = r''\n",
    "initial_prompt_file = file_path + 'Initial Prompt.txt'\n",
    "subsequent_prompt_preamble = file_path + 'Subsequent Prompt.txt'\n",
    "input_data_files = {'Input Data.xlsx'}\n",
    "rows_per_data_chunk = 2\n",
    "output_data_file = file_path + 'Output Data.xlsx'\n",
    "email_address = 'first.last@inl.gov'"
   ]
  },
  {
   "cell_type": "markdown",
   "id": "8c5a4ba3",
   "metadata": {},
   "source": [
    "## Functions"
   ]
  },
  {
   "cell_type": "code",
   "execution_count": null,
   "id": "e3662f8c",
   "metadata": {},
   "outputs": [],
   "source": [
    "def sign_in(driver):\n",
    "    # Wait for the Sign In button to be clickable and then click it\n",
    "    signin_button = WebDriverWait(driver, 10).until(\n",
    "        EC.element_to_be_clickable((By.CSS_SELECTOR, '.btn.btn-primary'))\n",
    "    )\n",
    "    signin_button.click()\n",
    "\n",
    "    # Wait for the email input field to be visible and then input the email address\n",
    "    email_input = WebDriverWait(driver, 10).until(\n",
    "        EC.visibility_of_element_located((By.ID, 'i0116'))\n",
    "    )\n",
    "    email_input.send_keys(email_address)\n",
    "\n",
    "    # Wait for the Next button to be clickable and then click it\n",
    "    next_button = WebDriverWait(driver, 10).until(\n",
    "        EC.element_to_be_clickable((By.ID, 'idSIButton9'))\n",
    "    )\n",
    "    next_button.click()\n",
    "\n",
    "    ## User inputs username and password in the sso popup\n",
    "    winsound.MessageBeep(winsound.MB_ICONQUESTION)\n",
    "    print('Please input your username and password in the Windows Security popup window')\n",
    "\n",
    "    textarea = WebDriverWait(driver, 120).until(\n",
    "            EC.presence_of_element_located((By.ID, \"entry\"))\n",
    "        )\n",
    "    print('Sign in successful')"
   ]
  },
  {
   "cell_type": "code",
   "execution_count": null,
   "id": "83aa5645",
   "metadata": {},
   "outputs": [],
   "source": [
    "def query_and_response(query, driver):\n",
    "    # Wait for the textarea to be present and then enter text\n",
    "    textarea = WebDriverWait(driver, 10).until(\n",
    "        EC.presence_of_element_located((By.ID, \"entry\"))\n",
    "    )\n",
    "    textarea.send_keys(query)\n",
    "\n",
    "    # Count the number of chat bubbles before submitting the query\n",
    "    initial_chat_bubble_count = len(driver.find_elements(By.CSS_SELECTOR, '.bot-response.chat-bubble'))\n",
    "\n",
    "    # Wait for the submit button to be clickable and then click it\n",
    "    submit_button = WebDriverWait(driver, 10).until(\n",
    "        EC.element_to_be_clickable((By.CSS_SELECTOR, '.btn.btn-primary.btn-sm'))\n",
    "    )\n",
    "    submit_button.click()\n",
    "    \n",
    "    # Wait for the number of chat bubbles to increase\n",
    "    WebDriverWait(driver, 20).until(\n",
    "        lambda driver: len(driver.find_elements(By.CSS_SELECTOR, '.bot-response.chat-bubble')) > initial_chat_bubble_count\n",
    "    )\n",
    "\n",
    "    # Find all response elements and select the last one\n",
    "    response_elements = driver.find_elements(By.CSS_SELECTOR, '.bot-response.chat-bubble')\n",
    "    most_recent_response = response_elements[-1]\n",
    "    \n",
    "    # Extract the response text\n",
    "    response_text = most_recent_response.text\n",
    "    return response_text"
   ]
  },
  {
   "cell_type": "code",
   "execution_count": null,
   "id": "2287fdd0",
   "metadata": {},
   "outputs": [],
   "source": [
    "def format_chunk_to_string(chunk):\n",
    "    # Format columns\n",
    "    header = ' | '.join(chunk.columns)\n",
    "    header = f'| {header} |'\n",
    "    \n",
    "    # Format rows\n",
    "    rows = chunk.apply(lambda row: ' | '.join(row.values), axis=1)\n",
    "    rows = rows.apply(lambda row: f'| {row} |')\n",
    "    \n",
    "    # Combine header and rows without newlines\n",
    "    return f'{header} |--------| ' + ' '.join(rows)"
   ]
  },
  {
   "cell_type": "code",
   "execution_count": null,
   "id": "bbc7e585",
   "metadata": {},
   "outputs": [],
   "source": [
    "def parse_string_to_df(data):\n",
    "    # Find the start of the table\n",
    "    table_start = re.search(r'\\|\\s*[^|]+\\s*\\|', data)\n",
    "    if not table_start:\n",
    "        raise ValueError(\"No table found in the input data.\")\n",
    "    \n",
    "    # Extract the tabular part\n",
    "    tabular_part = data[table_start.start():]\n",
    "    \n",
    "    # Split the string based on the pipe delimiter\n",
    "    parts = [part.strip() for part in tabular_part.split('|') if part.strip()]\n",
    "    \n",
    "    # Extract column names\n",
    "    columns = parts[:2]  # Assuming there are two columns\n",
    "    \n",
    "    # Skip the header separator\n",
    "    data_tuples = []\n",
    "    for i in range(2, len(parts), len(columns)):\n",
    "        if re.match(r'^-+$', parts[i]):\n",
    "            continue\n",
    "        data_tuples.append(tuple(parts[i:i+len(columns)]))\n",
    "    \n",
    "    # Create a DataFrame\n",
    "    df = pd.DataFrame(data_tuples, columns=columns)\n",
    "    \n",
    "    # Ensure the DataFrame has unique indices\n",
    "    df.reset_index(drop=True, inplace=True)\n",
    "    \n",
    "    return df"
   ]
  },
  {
   "cell_type": "code",
   "execution_count": null,
   "id": "9289a7dd",
   "metadata": {},
   "outputs": [],
   "source": [
    "def delete_session(driver):\n",
    "    # Wait for the Trash button to be clickable and then click it\n",
    "    trash_button = WebDriverWait(driver, 10).until(\n",
    "        EC.element_to_be_clickable((By.CSS_SELECTOR, '.btn.btn-danger'))\n",
    "    )\n",
    "    trash_button.click()"
   ]
  },
  {
   "cell_type": "markdown",
   "id": "552a7175",
   "metadata": {},
   "source": [
    "## Load Data"
   ]
  },
  {
   "cell_type": "code",
   "execution_count": null,
   "id": "ce108902",
   "metadata": {},
   "outputs": [],
   "source": [
    "## Load Inputs\n",
    "with open(initial_prompt_file, 'r') as file:\n",
    "    init_prompt = file.read()\n",
    "\n",
    "with open(subsequent_prompt_preamble, 'r') as file:\n",
    "    subs_prompt = file.read()\n",
    "\n",
    "input_data = pd.DataFrame() \n",
    "for input_file in input_data_files:\n",
    "    input_data = pd.concat([input_data, pd.read_excel(file_path+input_file)])"
   ]
  },
  {
   "cell_type": "code",
   "execution_count": null,
   "id": "c88deb58",
   "metadata": {},
   "outputs": [],
   "source": [
    "input_data"
   ]
  },
  {
   "cell_type": "markdown",
   "id": "6a452481",
   "metadata": {},
   "source": [
    "## Perform Queries and Record Responses"
   ]
  },
  {
   "cell_type": "code",
   "execution_count": null,
   "id": "0dd1d103",
   "metadata": {},
   "outputs": [],
   "source": [
    "## Setup Browser Connection\n",
    "\n",
    "# Set up Edge options to use the guest profile\n",
    "edge_options = webdriver.EdgeOptions()\n",
    "edge_options.add_argument('--guest')\n",
    "\n",
    "\n",
    "# Set up the Edge driver\n",
    "service = Service(EdgeChromiumDriverManager().install())\n",
    "driver = webdriver.Edge(service=service, options=edge_options)\n",
    "\n",
    "## Query and Record Responses\n",
    "outputs = pd.DataFrame()\n",
    "driver.get(\"https://aiva.inl.gov\")\n",
    "try:\n",
    "    sign_in(driver)\n",
    "    \n",
    "    print(query_and_response(init_prompt, driver))\n",
    "    for start in range(0, len(input_data), rows_per_data_chunk):\n",
    "        end = start + rows_per_data_chunk\n",
    "        chunk = input_data.iloc[start:end]\n",
    "        chunk_string = format_chunk_to_string(chunk)\n",
    "        print(subs_prompt+chunk_string)\n",
    "        response = query_and_response(subs_prompt+chunk_string, driver)\n",
    "        print(response)\n",
    "        output = parse_string_to_df(response) ## TODO Write to file instead and parse separately?\n",
    "        outputs = pd.concat([outputs, output], ignore_index=True)\n",
    "    ## TODO Detect max input of session and start a new session\n",
    "    delete_session(driver)\n",
    "\n",
    "finally:\n",
    "    driver.quit()"
   ]
  },
  {
   "cell_type": "code",
   "execution_count": null,
   "id": "5ab79448",
   "metadata": {},
   "outputs": [],
   "source": [
    "outputs"
   ]
  }
 ],
 "metadata": {
  "kernelspec": {
   "display_name": "base",
   "language": "python",
   "name": "python3"
  },
  "language_info": {
   "codemirror_mode": {
    "name": "ipython",
    "version": 3
   },
   "file_extension": ".py",
   "mimetype": "text/x-python",
   "name": "python",
   "nbconvert_exporter": "python",
   "pygments_lexer": "ipython3",
   "version": "3.12.7"
  }
 },
 "nbformat": 4,
 "nbformat_minor": 5
}
